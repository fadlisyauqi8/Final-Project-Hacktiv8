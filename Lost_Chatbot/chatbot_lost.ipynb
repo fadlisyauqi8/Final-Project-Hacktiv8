{
 "cells": [
  {
   "cell_type": "markdown",
   "metadata": {},
   "source": [
    "# ChatBot Let's Get Lost!"
   ]
  },
  {
   "cell_type": "markdown",
   "metadata": {},
   "source": [
    "Notebook ini berisi dalam pembuatan model chatbot AI menggunakan JSON format file lalu mengunakan library TensorFlow dengan Keras dalam Python."
   ]
  },
  {
   "cell_type": "markdown",
   "metadata": {},
   "source": [
    "## Import Libraries"
   ]
  },
  {
   "cell_type": "code",
   "execution_count": 1,
   "metadata": {},
   "outputs": [
    {
     "name": "stderr",
     "output_type": "stream",
     "text": [
      "[nltk_data] Downloading package punkt to\n",
      "[nltk_data]     C:\\Users\\TheSevenS\\AppData\\Roaming\\nltk_data...\n",
      "[nltk_data]   Package punkt is already up-to-date!\n"
     ]
    },
    {
     "data": {
      "text/plain": [
       "True"
      ]
     },
     "execution_count": 1,
     "metadata": {},
     "output_type": "execute_result"
    }
   ],
   "source": [
    "# Import Library\n",
    "import json\n",
    "import string\n",
    "import pickle\n",
    "import numpy as np\n",
    "import pandas as pd\n",
    "import matplotlib.pyplot as plt\n",
    "\n",
    "# Preprocessing\n",
    "from sklearn.preprocessing import LabelEncoder\n",
    "from sklearn.model_selection import train_test_split\n",
    "\n",
    "# Model\n",
    "import tensorflow as tf\n",
    "from keras.models import Sequential\n",
    "from keras.layers import Dense, Activation, Dropout\n",
    "\n",
    "\n",
    "# Words Pre\n",
    "import nltk\n",
    "from nltk.tokenize import word_tokenize\n",
    "nltk.download('punkt')"
   ]
  },
  {
   "cell_type": "markdown",
   "metadata": {},
   "source": [
    "## Load Data"
   ]
  },
  {
   "cell_type": "code",
   "execution_count": 2,
   "metadata": {},
   "outputs": [],
   "source": [
    "# load json file\n",
    "\n",
    "data_file = open('intents.json').read()\n",
    "intents_json = json.loads(data_file)"
   ]
  },
  {
   "cell_type": "code",
   "execution_count": 3,
   "metadata": {},
   "outputs": [],
   "source": [
    "# Create list from json\n",
    "patterns = [] # Input\n",
    "tag = [] # Classes/intent\n",
    "\n",
    "for i in range(len(intents_json['intents'])):\n",
    "    for user_patterns in intents_json['intents'][i]['patterns']:\n",
    "        patterns.append(user_patterns)\n",
    "        tag.append(intents_json['intents'][i]['tag'])\n"
   ]
  },
  {
   "cell_type": "code",
   "execution_count": 4,
   "metadata": {},
   "outputs": [
    {
     "data": {
      "text/html": [
       "<div>\n",
       "<style scoped>\n",
       "    .dataframe tbody tr th:only-of-type {\n",
       "        vertical-align: middle;\n",
       "    }\n",
       "\n",
       "    .dataframe tbody tr th {\n",
       "        vertical-align: top;\n",
       "    }\n",
       "\n",
       "    .dataframe thead th {\n",
       "        text-align: right;\n",
       "    }\n",
       "</style>\n",
       "<table border=\"1\" class=\"dataframe\">\n",
       "  <thead>\n",
       "    <tr style=\"text-align: right;\">\n",
       "      <th></th>\n",
       "      <th>patterns</th>\n",
       "      <th>tag</th>\n",
       "    </tr>\n",
       "  </thead>\n",
       "  <tbody>\n",
       "    <tr>\n",
       "      <th>0</th>\n",
       "      <td>Hai</td>\n",
       "      <td>greet</td>\n",
       "    </tr>\n",
       "    <tr>\n",
       "      <th>1</th>\n",
       "      <td>Hi</td>\n",
       "      <td>greet</td>\n",
       "    </tr>\n",
       "    <tr>\n",
       "      <th>2</th>\n",
       "      <td>Halo</td>\n",
       "      <td>greet</td>\n",
       "    </tr>\n",
       "    <tr>\n",
       "      <th>3</th>\n",
       "      <td>Apa Kabar</td>\n",
       "      <td>greet</td>\n",
       "    </tr>\n",
       "    <tr>\n",
       "      <th>4</th>\n",
       "      <td>Selamat Pagi</td>\n",
       "      <td>greet</td>\n",
       "    </tr>\n",
       "  </tbody>\n",
       "</table>\n",
       "</div>"
      ],
      "text/plain": [
       "       patterns    tag\n",
       "0           Hai  greet\n",
       "1            Hi  greet\n",
       "2          Halo  greet\n",
       "3     Apa Kabar  greet\n",
       "4  Selamat Pagi  greet"
      ]
     },
     "execution_count": 4,
     "metadata": {},
     "output_type": "execute_result"
    }
   ],
   "source": [
    "# Create dataframe from json\n",
    "df = pd.DataFrame({\n",
    "    'patterns': patterns,\n",
    "    'tag' : tag,\n",
    "})\n",
    "df.head()"
   ]
  },
  {
   "cell_type": "markdown",
   "metadata": {},
   "source": [
    "## Preprocessing"
   ]
  },
  {
   "cell_type": "markdown",
   "metadata": {},
   "source": [
    "**Splitting Data**"
   ]
  },
  {
   "cell_type": "code",
   "execution_count": 5,
   "metadata": {},
   "outputs": [],
   "source": [
    "X = df['patterns']\n",
    "y = df['tag']"
   ]
  },
  {
   "cell_type": "code",
   "execution_count": 6,
   "metadata": {},
   "outputs": [
    {
     "name": "stdout",
     "output_type": "stream",
     "text": [
      "Ukuran dimensi Data Trainval-set:  (163,)\n",
      "Ukuran dimensi Data Test-set:  (70,)\n"
     ]
    }
   ],
   "source": [
    "# Splitting Dataset\n",
    "X_train, X_test, y_train, y_test = train_test_split(X, y, test_size = 0.3, random_state = 50, stratify = y)\n",
    "\n",
    "print('Ukuran dimensi Data Trainval-set: ', X_train.shape)\n",
    "print('Ukuran dimensi Data Test-set: ', X_test.shape)"
   ]
  },
  {
   "cell_type": "code",
   "execution_count": 7,
   "metadata": {},
   "outputs": [
    {
     "data": {
      "text/plain": [
       "greet                 12\n",
       "creator                8\n",
       "pilihan                8\n",
       "bye                    8\n",
       "thanks                 8\n",
       "pembayaran             8\n",
       "nanya_apps             8\n",
       "sop_covid              8\n",
       "reschedule_bantuan     7\n",
       "complain_marah         7\n",
       "mengubah_pilihan       6\n",
       "nanya_gobot            6\n",
       "nama                   5\n",
       "refund                 5\n",
       "tanya wisata alam      5\n",
       "pilihan_2              5\n",
       "weblink                5\n",
       "dokumen                5\n",
       "reschedule_info        4\n",
       "pembayaran_error       4\n",
       "canda                  4\n",
       "vaksin_info            4\n",
       "complain               4\n",
       "keamanan_data          4\n",
       "canda_3                3\n",
       "salah_input            3\n",
       "random_talk3           3\n",
       "random_talk            3\n",
       "canda_2                3\n",
       "Name: tag, dtype: int64"
      ]
     },
     "execution_count": 7,
     "metadata": {},
     "output_type": "execute_result"
    }
   ],
   "source": [
    "y_train.value_counts()"
   ]
  },
  {
   "cell_type": "code",
   "execution_count": 8,
   "metadata": {},
   "outputs": [
    {
     "data": {
      "text/plain": [
       "greet                 5\n",
       "pilihan               4\n",
       "pembayaran            4\n",
       "dokumen               3\n",
       "creator               3\n",
       "sop_covid             3\n",
       "refund                3\n",
       "complain_marah        3\n",
       "bye                   3\n",
       "thanks                3\n",
       "nanya_apps            3\n",
       "reschedule_bantuan    3\n",
       "nanya_gobot           2\n",
       "nama                  2\n",
       "tanya wisata alam     2\n",
       "random_talk           2\n",
       "complain              2\n",
       "canda                 2\n",
       "keamanan_data         2\n",
       "vaksin_info           2\n",
       "pembayaran_error      2\n",
       "reschedule_info       2\n",
       "pilihan_2             2\n",
       "mengubah_pilihan      2\n",
       "weblink               2\n",
       "random_talk3          1\n",
       "canda_3               1\n",
       "salah_input           1\n",
       "canda_2               1\n",
       "Name: tag, dtype: int64"
      ]
     },
     "execution_count": 8,
     "metadata": {},
     "output_type": "execute_result"
    }
   ],
   "source": [
    "y_test.value_counts()"
   ]
  },
  {
   "cell_type": "markdown",
   "metadata": {},
   "source": [
    "**Clean Text**"
   ]
  },
  {
   "cell_type": "code",
   "execution_count": 9,
   "metadata": {},
   "outputs": [],
   "source": [
    "# Clean text\n",
    "def clean_text(text):\n",
    "    \"\"\"\n",
    "    Fungsi yang digunakan untuk melakukan praproses\n",
    "    \"\"\"\n",
    "    # konversi ke lowercase\n",
    "    text = text.lower()\n",
    "    # menghapus tanda baca\n",
    "    tandabaca = tuple(string.punctuation)\n",
    "    text = ''.join(ch for ch in text if ch not in tandabaca)\n",
    "    return text"
   ]
  },
  {
   "cell_type": "code",
   "execution_count": 10,
   "metadata": {},
   "outputs": [
    {
     "data": {
      "text/plain": [
       "'halo boleh bantuannya'"
      ]
     },
     "execution_count": 10,
     "metadata": {},
     "output_type": "execute_result"
    }
   ],
   "source": [
    "# Konfirmasi function diatas\n",
    "kalimat = 'Halo boleh bantuannya?'\n",
    "clean_text(kalimat)"
   ]
  },
  {
   "cell_type": "code",
   "execution_count": 11,
   "metadata": {},
   "outputs": [
    {
     "data": {
      "text/plain": [
       "70                    link apps nya apa\n",
       "190                      cara ubah nama\n",
       "182    aku mau mengubah pilihan liburan\n",
       "212                  data kami diapakan\n",
       "17                                dadah\n",
       "Name: patterns, dtype: object"
      ]
     },
     "execution_count": 11,
     "metadata": {},
     "output_type": "execute_result"
    }
   ],
   "source": [
    "X_train = X_train.apply(clean_text)\n",
    "X_train.head()"
   ]
  },
  {
   "cell_type": "markdown",
   "metadata": {},
   "source": [
    "**Tokenizing**"
   ]
  },
  {
   "cell_type": "markdown",
   "metadata": {},
   "source": [
    "Setelah melakukan cleaning data, selanjutnya saya akan menggunakan nltk.word_tokenize untuk menggabungkan list kalimat yang ada untuk menjadi satu kalimat berdasarkan tags.\n",
    "\n",
    "Tokenizing merupakan salah satu jenis preprocessing yang dilakukan sebelum membuat machine learning model. Tokenizing merupakan hal dasar pada data text."
   ]
  },
  {
   "cell_type": "code",
   "execution_count": 12,
   "metadata": {},
   "outputs": [],
   "source": [
    "# Create corpus\n",
    "words = set([\n",
    "    word for word in X_train for word in word_tokenize(word)\n",
    "    ]\n",
    ")"
   ]
  },
  {
   "cell_type": "code",
   "execution_count": 13,
   "metadata": {},
   "outputs": [],
   "source": [
    "corpus_size = len(words)"
   ]
  },
  {
   "cell_type": "code",
   "execution_count": 14,
   "metadata": {},
   "outputs": [
    {
     "name": "stdout",
     "output_type": "stream",
     "text": [
      "174 8\n"
     ]
    }
   ],
   "source": [
    "# Pengunaan tokenize pada text\n",
    "df['length'] = X_train.apply(word_tokenize).apply(len)\n",
    "sequence_length = int(round(df['length'].max(),0))\n",
    "print(corpus_size,sequence_length)"
   ]
  },
  {
   "cell_type": "markdown",
   "metadata": {},
   "source": [
    "**Encoding**"
   ]
  },
  {
   "cell_type": "code",
   "execution_count": 15,
   "metadata": {},
   "outputs": [],
   "source": [
    "# Label Encoding\n",
    "encoder = LabelEncoder()\n",
    "y_train = encoder.fit_transform(y_train)\n",
    "y_train = tf.keras.utils.to_categorical(y_train)"
   ]
  },
  {
   "cell_type": "code",
   "execution_count": 16,
   "metadata": {},
   "outputs": [],
   "source": [
    "y_test = encoder.transform(y_test)\n",
    "y_test = tf.keras.utils.to_categorical(y_test)"
   ]
  },
  {
   "cell_type": "code",
   "execution_count": 17,
   "metadata": {},
   "outputs": [
    {
     "name": "stdout",
     "output_type": "stream",
     "text": [
      "['bye' 'canda' 'canda_2' 'canda_3' 'complain' 'complain_marah' 'creator'\n",
      " 'dokumen' 'greet' 'keamanan_data' 'mengubah_pilihan' 'nama' 'nanya_apps'\n",
      " 'nanya_gobot' 'pembayaran' 'pembayaran_error' 'pilihan' 'pilihan_2'\n",
      " 'random_talk' 'random_talk3' 'refund' 'reschedule_bantuan'\n",
      " 'reschedule_info' 'salah_input' 'sop_covid' 'tanya wisata alam' 'thanks'\n",
      " 'vaksin_info' 'weblink']\n"
     ]
    }
   ],
   "source": [
    "print(encoder.classes_)"
   ]
  },
  {
   "cell_type": "code",
   "execution_count": 18,
   "metadata": {},
   "outputs": [
    {
     "name": "stdout",
     "output_type": "stream",
     "text": [
      "29\n"
     ]
    }
   ],
   "source": [
    "print(len(encoder.classes_))"
   ]
  },
  {
   "cell_type": "markdown",
   "metadata": {},
   "source": [
    "**Vectorization**\n",
    "\n",
    "Vektorisasi merupakan metode *bag of words* merupakan metode pengumpulan vocab pada corpus, metode yang saya gunakan pada hal ini adalah text vectorization yang terdapat pada TensorFlow kit."
   ]
  },
  {
   "cell_type": "code",
   "execution_count": 19,
   "metadata": {},
   "outputs": [],
   "source": [
    "vect = tf.keras.layers.TextVectorization(\n",
    "    max_tokens=corpus_size,\n",
    "    standardize='lower_and_strip_punctuation',\n",
    "    split='whitespace',\n",
    "    ngrams=None,\n",
    "    output_mode='int',\n",
    "    output_sequence_length=sequence_length\n",
    ")\n",
    "vect.adapt(X_train)   "
   ]
  },
  {
   "cell_type": "code",
   "execution_count": 20,
   "metadata": {},
   "outputs": [
    {
     "data": {
      "text/plain": [
       "<tf.Tensor: shape=(8,), dtype=int64, numpy=array([143,   1,   1,   0,   0,   0,   0,   0], dtype=int64)>"
      ]
     },
     "execution_count": 20,
     "metadata": {},
     "output_type": "execute_result"
    }
   ],
   "source": [
    "check = 'halo boleh bantuannya?'\n",
    "vect(clean_text(check))"
   ]
  },
  {
   "cell_type": "markdown",
   "metadata": {},
   "source": [
    "**Embedding**"
   ]
  },
  {
   "cell_type": "code",
   "execution_count": 21,
   "metadata": {},
   "outputs": [],
   "source": [
    "# Define function Embedding\n",
    "embedding = tf.keras.layers.Embedding(\n",
    "    input_dim=corpus_size,\n",
    "    output_dim=16,\n",
    "    input_length=sequence_length,\n",
    "    embeddings_initializer='uniform'\n",
    ")"
   ]
  },
  {
   "cell_type": "code",
   "execution_count": 22,
   "metadata": {},
   "outputs": [
    {
     "data": {
      "text/plain": [
       "<tf.Tensor: shape=(8, 16), dtype=float32, numpy=\n",
       "array([[ 0.01094143, -0.02266387, -0.00980318, -0.0029315 , -0.01985103,\n",
       "        -0.01436385, -0.01237389, -0.01402328, -0.01889485,  0.00260752,\n",
       "         0.04861765,  0.03869139, -0.04557411,  0.00888364,  0.0462768 ,\n",
       "        -0.01999521],\n",
       "       [-0.0146546 , -0.01878852, -0.04049639, -0.01211929, -0.00418179,\n",
       "         0.01074629,  0.04046469, -0.01004254,  0.02896534,  0.02779385,\n",
       "        -0.04724465,  0.02552673, -0.02829791,  0.02179262,  0.02906824,\n",
       "         0.00633783],\n",
       "       [-0.0146546 , -0.01878852, -0.04049639, -0.01211929, -0.00418179,\n",
       "         0.01074629,  0.04046469, -0.01004254,  0.02896534,  0.02779385,\n",
       "        -0.04724465,  0.02552673, -0.02829791,  0.02179262,  0.02906824,\n",
       "         0.00633783],\n",
       "       [ 0.02035544,  0.03673765, -0.03727515, -0.02155511, -0.01342155,\n",
       "        -0.01369176, -0.04798938,  0.02271144, -0.00234953, -0.00605855,\n",
       "        -0.01939954,  0.04445419,  0.01188401, -0.04010029,  0.04479475,\n",
       "        -0.03967407],\n",
       "       [ 0.02035544,  0.03673765, -0.03727515, -0.02155511, -0.01342155,\n",
       "        -0.01369176, -0.04798938,  0.02271144, -0.00234953, -0.00605855,\n",
       "        -0.01939954,  0.04445419,  0.01188401, -0.04010029,  0.04479475,\n",
       "        -0.03967407],\n",
       "       [ 0.02035544,  0.03673765, -0.03727515, -0.02155511, -0.01342155,\n",
       "        -0.01369176, -0.04798938,  0.02271144, -0.00234953, -0.00605855,\n",
       "        -0.01939954,  0.04445419,  0.01188401, -0.04010029,  0.04479475,\n",
       "        -0.03967407],\n",
       "       [ 0.02035544,  0.03673765, -0.03727515, -0.02155511, -0.01342155,\n",
       "        -0.01369176, -0.04798938,  0.02271144, -0.00234953, -0.00605855,\n",
       "        -0.01939954,  0.04445419,  0.01188401, -0.04010029,  0.04479475,\n",
       "        -0.03967407],\n",
       "       [ 0.02035544,  0.03673765, -0.03727515, -0.02155511, -0.01342155,\n",
       "        -0.01369176, -0.04798938,  0.02271144, -0.00234953, -0.00605855,\n",
       "        -0.01939954,  0.04445419,  0.01188401, -0.04010029,  0.04479475,\n",
       "        -0.03967407]], dtype=float32)>"
      ]
     },
     "execution_count": 22,
     "metadata": {},
     "output_type": "execute_result"
    }
   ],
   "source": [
    "# Show vector value from text check\n",
    "embedding(vect(clean_text(check)))"
   ]
  },
  {
   "cell_type": "markdown",
   "metadata": {},
   "source": [
    "**Pipeline Tensorflow**"
   ]
  },
  {
   "cell_type": "code",
   "execution_count": 23,
   "metadata": {},
   "outputs": [
    {
     "data": {
      "text/plain": [
       "(163, 29)"
      ]
     },
     "execution_count": 23,
     "metadata": {},
     "output_type": "execute_result"
    }
   ],
   "source": [
    "y_train.shape"
   ]
  },
  {
   "cell_type": "code",
   "execution_count": 24,
   "metadata": {},
   "outputs": [],
   "source": [
    "# data train\n",
    "train_dataset = tf.data.Dataset.from_tensor_slices((X_train, y_train)).shuffle(163).batch(8)  # shuffle sebanyak jumlah baris data train"
   ]
  },
  {
   "cell_type": "code",
   "execution_count": 25,
   "metadata": {},
   "outputs": [],
   "source": [
    "# data test\n",
    "test_dataset = tf.data.Dataset.from_tensor_slices((X_test, y_test)).batch(8)"
   ]
  },
  {
   "cell_type": "code",
   "execution_count": 26,
   "metadata": {},
   "outputs": [
    {
     "data": {
      "text/plain": [
       "70                    link apps nya apa\n",
       "190                      cara ubah nama\n",
       "182    aku mau mengubah pilihan liburan\n",
       "212                  data kami diapakan\n",
       "17                                dadah\n",
       "                     ...               \n",
       "224                          apps jelek\n",
       "175              butuh dokumen apa saja\n",
       "206                dimana tempat vaksin\n",
       "173             bantuin reschedule dong\n",
       "62                              appsnya\n",
       "Name: patterns, Length: 163, dtype: object"
      ]
     },
     "execution_count": 26,
     "metadata": {},
     "output_type": "execute_result"
    }
   ],
   "source": [
    "X_train\n"
   ]
  },
  {
   "cell_type": "markdown",
   "metadata": {},
   "source": [
    "## Model Training"
   ]
  },
  {
   "cell_type": "markdown",
   "metadata": {},
   "source": [
    "From this chapter we will try train our data with LSTM (Long Short Term Memory) from tensorflow to make prediction for answer of the ChatBot."
   ]
  },
  {
   "cell_type": "code",
   "execution_count": 46,
   "metadata": {},
   "outputs": [],
   "source": [
    "# Functional API Model\n",
    "\n",
    "input = tf.keras.layers.Input(shape=(1,), dtype='string')\n",
    "hidden_1 = vect(input)\n",
    "hidden_2 = embedding (hidden_1)\n",
    "hidden_3 = tf.keras.layers.Bidirectional(tf.keras.layers.LSTM(16))(hidden_2)\n",
    "output = tf.keras.layers.Dense(len(encoder.classes_), activation='softmax')(hidden_3)\n",
    "model = tf.keras.Model(inputs=input, outputs=output)\n",
    "\n",
    "\n",
    "\n",
    "#Compile Model\n",
    "model.compile(loss='categorical_crossentropy',optimizer='adam',metrics='accuracy')\n"
   ]
  },
  {
   "cell_type": "code",
   "execution_count": 28,
   "metadata": {},
   "outputs": [],
   "source": [
    "# Functional API Model\n",
    "\n",
    "# input = tf.keras.layers.Input(shape=(1,), dtype='string')\n",
    "# hidden_1 = vect(input)\n",
    "# hidden_2 = embedding (hidden_1)\n",
    "# hidden_3 = tf.keras.layers.Bidirectional(tf.keras.layers.LSTM(32, return_sequences = True))(hidden_2) \n",
    "# hidden_4 = tf.keras.layers.Bidirectional(tf.keras.layers.LSTM(16))(hidden_3)\n",
    "# output = tf.keras.layers.Dense(len(encoder.classes_), activation='softmax')(hidden_4)\n",
    "# model = tf.keras.Model(inputs=input, outputs=output)\n",
    "\n",
    "\n",
    "# #Compile Model\n",
    "# model.compile(loss='categorical_crossentropy',optimizer='adam',metrics='accuracy')"
   ]
  },
  {
   "cell_type": "code",
   "execution_count": 47,
   "metadata": {},
   "outputs": [
    {
     "name": "stdout",
     "output_type": "stream",
     "text": [
      "Model: \"model_1\"\n",
      "_________________________________________________________________\n",
      " Layer (type)                Output Shape              Param #   \n",
      "=================================================================\n",
      " input_2 (InputLayer)        [(None, 1)]               0         \n",
      "                                                                 \n",
      " text_vectorization (TextVec  (None, 8)                0         \n",
      " torization)                                                     \n",
      "                                                                 \n",
      " embedding (Embedding)       (None, 8, 16)             2784      \n",
      "                                                                 \n",
      " bidirectional_1 (Bidirectio  (None, 32)               4224      \n",
      " nal)                                                            \n",
      "                                                                 \n",
      " dense_1 (Dense)             (None, 29)                957       \n",
      "                                                                 \n",
      "=================================================================\n",
      "Total params: 7,965\n",
      "Trainable params: 7,965\n",
      "Non-trainable params: 0\n",
      "_________________________________________________________________\n"
     ]
    }
   ],
   "source": [
    "# Show summary of model\n",
    "model.summary()"
   ]
  },
  {
   "cell_type": "code",
   "execution_count": 48,
   "metadata": {},
   "outputs": [
    {
     "data": {
      "text/html": [
       "<div>\n",
       "<style scoped>\n",
       "    .dataframe tbody tr th:only-of-type {\n",
       "        vertical-align: middle;\n",
       "    }\n",
       "\n",
       "    .dataframe tbody tr th {\n",
       "        vertical-align: top;\n",
       "    }\n",
       "\n",
       "    .dataframe thead th {\n",
       "        text-align: right;\n",
       "    }\n",
       "</style>\n",
       "<table border=\"1\" class=\"dataframe\">\n",
       "  <thead>\n",
       "    <tr style=\"text-align: right;\">\n",
       "      <th></th>\n",
       "      <th>loss</th>\n",
       "      <th>accuracy</th>\n",
       "      <th>val_loss</th>\n",
       "      <th>val_accuracy</th>\n",
       "    </tr>\n",
       "  </thead>\n",
       "  <tbody>\n",
       "    <tr>\n",
       "      <th>95</th>\n",
       "      <td>0.029235</td>\n",
       "      <td>1.0</td>\n",
       "      <td>2.832986</td>\n",
       "      <td>0.414286</td>\n",
       "    </tr>\n",
       "    <tr>\n",
       "      <th>96</th>\n",
       "      <td>0.028291</td>\n",
       "      <td>1.0</td>\n",
       "      <td>2.863371</td>\n",
       "      <td>0.414286</td>\n",
       "    </tr>\n",
       "    <tr>\n",
       "      <th>97</th>\n",
       "      <td>0.027698</td>\n",
       "      <td>1.0</td>\n",
       "      <td>2.845337</td>\n",
       "      <td>0.414286</td>\n",
       "    </tr>\n",
       "    <tr>\n",
       "      <th>98</th>\n",
       "      <td>0.027078</td>\n",
       "      <td>1.0</td>\n",
       "      <td>2.867135</td>\n",
       "      <td>0.414286</td>\n",
       "    </tr>\n",
       "    <tr>\n",
       "      <th>99</th>\n",
       "      <td>0.026485</td>\n",
       "      <td>1.0</td>\n",
       "      <td>2.861503</td>\n",
       "      <td>0.414286</td>\n",
       "    </tr>\n",
       "  </tbody>\n",
       "</table>\n",
       "</div>"
      ],
      "text/plain": [
       "        loss  accuracy  val_loss  val_accuracy\n",
       "95  0.029235       1.0  2.832986      0.414286\n",
       "96  0.028291       1.0  2.863371      0.414286\n",
       "97  0.027698       1.0  2.845337      0.414286\n",
       "98  0.027078       1.0  2.867135      0.414286\n",
       "99  0.026485       1.0  2.861503      0.414286"
      ]
     },
     "execution_count": 48,
     "metadata": {},
     "output_type": "execute_result"
    }
   ],
   "source": [
    "hist = model.fit(train_dataset, validation_data = test_dataset,  epochs=100, verbose=0)\n",
    "pd.DataFrame(hist.history).tail()"
   ]
  },
  {
   "cell_type": "code",
   "execution_count": 31,
   "metadata": {},
   "outputs": [
    {
     "data": {
      "image/png": "[encoded data removed]",
      "text/plain": [
       "<Figure size 720x360 with 1 Axes>"
      ]
     },
     "metadata": {
      "needs_background": "light"
     },
     "output_type": "display_data"
    }
   ],
   "source": [
    "# visualisasi hasil training basic model rnn\n",
    "fig, ax = plt.subplots(figsize=(10,5))\n",
    "ax.plot(range(hist.epoch[-1]+1),hist.history['loss'],label='train loss')\n",
    "ax.plot(range(hist.epoch[-1]+1),hist.history['val_loss'],label='val loss')\n",
    "ax.set_xlabel('Epoch')\n",
    "ax.set_ylabel('loss')\n",
    "plt.legend()\n",
    "plt.show()"
   ]
  },
  {
   "cell_type": "markdown",
   "metadata": {},
   "source": [
    "**Saving Model**"
   ]
  },
  {
   "cell_type": "code",
   "execution_count": 32,
   "metadata": {},
   "outputs": [],
   "source": [
    "# Save Encoder\n",
    "\n",
    "with open('encoder.pkl', 'wb') as f:\n",
    "    pickle.dump(encoder, f)"
   ]
  },
  {
   "cell_type": "code",
   "execution_count": 33,
   "metadata": {},
   "outputs": [],
   "source": [
    "pickle.dump({'config': vect.get_config(),\n",
    "             'weights': vect.get_weights()}\n",
    "            , open(\"vect.pkl\", \"wb\"))"
   ]
  },
  {
   "cell_type": "code",
   "execution_count": 34,
   "metadata": {},
   "outputs": [
    {
     "name": "stderr",
     "output_type": "stream",
     "text": [
      "WARNING:absl:Found untraced functions such as lstm_cell_1_layer_call_fn, lstm_cell_1_layer_call_and_return_conditional_losses, lstm_cell_2_layer_call_fn, lstm_cell_2_layer_call_and_return_conditional_losses while saving (showing 4 of 4). These functions will not be directly callable after loading.\n"
     ]
    },
    {
     "name": "stdout",
     "output_type": "stream",
     "text": [
      "INFO:tensorflow:Assets written to: model.tf\\assets\n"
     ]
    },
    {
     "name": "stderr",
     "output_type": "stream",
     "text": [
      "INFO:tensorflow:Assets written to: model.tf\\assets\n"
     ]
    }
   ],
   "source": [
    "model.save('model.tf', save_traces=True)"
   ]
  },
  {
   "cell_type": "markdown",
   "metadata": {},
   "source": [
    "## Inference"
   ]
  },
  {
   "cell_type": "code",
   "execution_count": 35,
   "metadata": {},
   "outputs": [],
   "source": [
    "def bot_response(text):\n",
    "    \"\"\"Take text as function input then predict using model. Return response based on highest probability using numpy argmax    \n",
    "    \"\"\"\n",
    "    text = clean_text(text)\n",
    "    pred = model.predict([text])\n",
    "    res = encoder.classes_[pred.argmax()] # Mencari index yang memiliki probabilitas tertinggi\n",
    "    i = 0\n",
    "    try:\n",
    "        if vect(text).numpy().max() > 1: # If the input is known word(s)\n",
    "            while i < len(intents_json['intents']):\n",
    "                if res == intents_json['intents'][i]['tag']:\n",
    "                    responses = intents_json['intents'][i]['responses']\n",
    "                    break\n",
    "                else:\n",
    "                    i+=1\n",
    "        else: # If only unknown word(s)\n",
    "            responses = ['Maaf kawan, aku tidak mengerti perkataan mu ...']\n",
    "    except: # If empty string or any error occured\n",
    "        responses = ['GoBot tidak mengerti :( ...']\n",
    "\n",
    "    # For debugging only\n",
    "    dict_temp = []\n",
    "    for i in range(len(pred[0])):\n",
    "        temp = {encoder.classes_[i]: pred[0][i]}\n",
    "        dict_temp.append(temp)\n",
    "    print(dict_temp)\n",
    "    print(encoder.classes_[pred.argmax()])\n",
    "\n",
    "    return(np.random.choice(responses))"
   ]
  },
  {
   "cell_type": "code",
   "execution_count": 36,
   "metadata": {},
   "outputs": [
    {
     "data": {
      "text/plain": [
       "'hai'"
      ]
     },
     "execution_count": 36,
     "metadata": {},
     "output_type": "execute_result"
    }
   ],
   "source": [
    "tes1 = 'hai'\n",
    "clean_text(tes1)"
   ]
  },
  {
   "cell_type": "code",
   "execution_count": 37,
   "metadata": {},
   "outputs": [
    {
     "name": "stdout",
     "output_type": "stream",
     "text": [
      "1/1 [==============================] - 2s 2s/step\n"
     ]
    },
    {
     "data": {
      "text/plain": [
       "array([[1.6621899e-02, 7.7171724e-05, 1.2413749e-05, 8.6526497e-06,\n",
       "        5.0674618e-04, 1.0021472e-04, 5.4813408e-05, 1.9414777e-04,\n",
       "        4.2405510e-03, 1.2254746e-04, 1.1825614e-03, 5.6663423e-04,\n",
       "        5.4223299e-05, 5.3890990e-03, 3.4169911e-03, 2.1019303e-04,\n",
       "        3.4002371e-03, 2.5841047e-04, 5.0423120e-04, 1.1483133e-06,\n",
       "        2.1307249e-02, 4.9671286e-05, 8.1650878e-04, 5.1580482e-06,\n",
       "        1.3992698e-02, 1.9260290e-06, 9.2666328e-01, 2.4050029e-04,\n",
       "        1.1340333e-07]], dtype=float32)"
      ]
     },
     "execution_count": 37,
     "metadata": {},
     "output_type": "execute_result"
    }
   ],
   "source": [
    "model.predict([clean_text(tes1)])"
   ]
  },
  {
   "cell_type": "code",
   "execution_count": 38,
   "metadata": {},
   "outputs": [
    {
     "name": "stdout",
     "output_type": "stream",
     "text": [
      "1/1 [==============================] - 0s 32ms/step\n"
     ]
    },
    {
     "data": {
      "text/plain": [
       "26"
      ]
     },
     "execution_count": 38,
     "metadata": {},
     "output_type": "execute_result"
    }
   ],
   "source": [
    "model.predict([clean_text(tes1)]).argmax()"
   ]
  },
  {
   "cell_type": "code",
   "execution_count": 39,
   "metadata": {},
   "outputs": [
    {
     "name": "stdout",
     "output_type": "stream",
     "text": [
      "1/1 [==============================] - 0s 108ms/step\n"
     ]
    },
    {
     "data": {
      "text/plain": [
       "'thanks'"
      ]
     },
     "execution_count": 39,
     "metadata": {},
     "output_type": "execute_result"
    }
   ],
   "source": [
    "encoder.classes_[model.predict([clean_text(tes1)]).argmax()]\n"
   ]
  },
  {
   "cell_type": "code",
   "execution_count": 40,
   "metadata": {},
   "outputs": [
    {
     "data": {
      "text/plain": [
       "['GoBot merupakan online Chatbot, yang dapat membantu kawan untuk mecarikan rekomendasi tempat kawan liburan.',\n",
       " 'Salam kenal aku GoBot',\n",
       " 'Panggil aku GoBot kawan :)',\n",
       " 'Aku GoBot!',\n",
       " 'Perkenalkan aku GoBot']"
      ]
     },
     "execution_count": 40,
     "metadata": {},
     "output_type": "execute_result"
    }
   ],
   "source": [
    "intents_json['intents'][4]['responses']"
   ]
  },
  {
   "cell_type": "code",
   "execution_count": 41,
   "metadata": {},
   "outputs": [
    {
     "name": "stdout",
     "output_type": "stream",
     "text": [
      "1/1 [==============================] - 0s 46ms/step\n",
      "[{'bye': 0.09293362}, {'canda': 0.00026535758}, {'canda_2': 7.6903725e-06}, {'canda_3': 9.847427e-08}, {'complain': 0.0010387778}, {'complain_marah': 0.0023539027}, {'creator': 0.00016307255}, {'dokumen': 0.0011645575}, {'greet': 0.8617037}, {'keamanan_data': 0.00011447824}, {'mengubah_pilihan': 0.00016097316}, {'nama': 2.6784963e-05}, {'nanya_apps': 0.00054321735}, {'nanya_gobot': 0.0019128362}, {'pembayaran': 0.010122344}, {'pembayaran_error': 5.7005636e-06}, {'pilihan': 0.00048534476}, {'pilihan_2': 0.0005213839}, {'random_talk': 7.540322e-05}, {'random_talk3': 9.574227e-08}, {'refund': 0.0001231185}, {'reschedule_bantuan': 4.0437222e-05}, {'reschedule_info': 0.00525104}, {'salah_input': 9.568098e-07}, {'sop_covid': 0.0014057317}, {'tanya wisata alam': 2.6922666e-07}, {'thanks': 0.019565491}, {'vaksin_info': 1.1253111e-05}, {'weblink': 2.2574038e-06}]\n",
      "greet\n"
     ]
    },
    {
     "data": {
      "text/plain": [
       "'GoBot tidak mengerti :( ...'"
      ]
     },
     "execution_count": 41,
     "metadata": {},
     "output_type": "execute_result"
    }
   ],
   "source": [
    "bot_response('')"
   ]
  },
  {
   "cell_type": "code",
   "execution_count": 42,
   "metadata": {},
   "outputs": [
    {
     "name": "stdout",
     "output_type": "stream",
     "text": [
      "1/1 [==============================] - 0s 64ms/step\n",
      "[{'bye': 0.013489193}, {'canda': 0.00035364024}, {'canda_2': 6.1092883e-06}, {'canda_3': 4.6715908e-08}, {'complain': 0.0006350671}, {'complain_marah': 0.0028815253}, {'creator': 1.5641597e-05}, {'dokumen': 0.0002514464}, {'greet': 0.9713169}, {'keamanan_data': 3.499065e-05}, {'mengubah_pilihan': 2.56312e-05}, {'nama': 2.242031e-06}, {'nanya_apps': 0.0003296943}, {'nanya_gobot': 0.00021289}, {'pembayaran': 0.00065132783}, {'pembayaran_error': 3.9651835e-07}, {'pilihan': 4.1979976e-05}, {'pilihan_2': 0.00028533916}, {'random_talk': 6.324482e-05}, {'random_talk3': 1.0124595e-07}, {'refund': 2.0813766e-05}, {'reschedule_bantuan': 2.9618996e-05}, {'reschedule_info': 0.006038278}, {'salah_input': 1.6185385e-07}, {'sop_covid': 0.0007766141}, {'tanya wisata alam': 1.6681369e-07}, {'thanks': 0.002530588}, {'vaksin_info': 3.2777875e-06}, {'weblink': 3.030747e-06}]\n",
      "greet\n"
     ]
    },
    {
     "data": {
      "text/plain": [
       "'Halo selamat datang di Customer Help GoBot :)'"
      ]
     },
     "execution_count": 42,
     "metadata": {},
     "output_type": "execute_result"
    }
   ],
   "source": [
    "bot_response('Halo!')"
   ]
  },
  {
   "cell_type": "code",
   "execution_count": 43,
   "metadata": {},
   "outputs": [
    {
     "name": "stdout",
     "output_type": "stream",
     "text": [
      "1/1 [==============================] - 0s 36ms/step\n",
      "[{'bye': 0.004543428}, {'canda': 2.1646621e-05}, {'canda_2': 3.5856565e-06}, {'canda_3': 3.834303e-06}, {'complain': 0.00018411089}, {'complain_marah': 0.019245138}, {'creator': 0.00057560264}, {'dokumen': 0.008409536}, {'greet': 0.0126377}, {'keamanan_data': 0.0031031037}, {'mengubah_pilihan': 0.0009912166}, {'nama': 0.00047418635}, {'nanya_apps': 0.0004895691}, {'nanya_gobot': 0.0054226937}, {'pembayaran': 0.81506425}, {'pembayaran_error': 0.00076305843}, {'pilihan': 0.09215806}, {'pilihan_2': 0.0003016789}, {'random_talk': 0.0004923827}, {'random_talk3': 6.7417216e-07}, {'refund': 0.0006291262}, {'reschedule_bantuan': 0.0013239295}, {'reschedule_info': 0.0026296873}, {'salah_input': 2.66416e-05}, {'sop_covid': 0.005020215}, {'tanya wisata alam': 2.0089747e-06}, {'thanks': 0.025389496}, {'vaksin_info': 8.760747e-05}, {'weblink': 5.6492927e-06}]\n",
      "pembayaran\n"
     ]
    },
    {
     "data": {
      "text/plain": [
       "'Halo kawan, untuk pembayaran dapat menggunakan metode pembayaran yang tertera di website Travelry.'"
      ]
     },
     "execution_count": 43,
     "metadata": {},
     "output_type": "execute_result"
    }
   ],
   "source": [
    "bot_response('bali')"
   ]
  },
  {
   "cell_type": "markdown",
   "metadata": {},
   "source": []
  },
  {
   "cell_type": "code",
   "execution_count": 44,
   "metadata": {},
   "outputs": [
    {
     "name": "stdout",
     "output_type": "stream",
     "text": [
      "1/1 [==============================] - 0s 75ms/step\n",
      "[{'bye': 0.94829285}, {'canda': 0.00020243581}, {'canda_2': 3.734269e-05}, {'canda_3': 2.0750902e-07}, {'complain': 0.0065985937}, {'complain_marah': 9.612404e-05}, {'creator': 0.00032360273}, {'dokumen': 0.00018313823}, {'greet': 0.014551913}, {'keamanan_data': 0.00019514402}, {'mengubah_pilihan': 0.00057102065}, {'nama': 0.0006043167}, {'nanya_apps': 0.0001603086}, {'nanya_gobot': 0.010197272}, {'pembayaran': 0.0044831918}, {'pembayaran_error': 4.3458817e-06}, {'pilihan': 0.0001697335}, {'pilihan_2': 0.00039930746}, {'random_talk': 1.5421896e-05}, {'random_talk3': 6.691983e-08}, {'refund': 0.0018904124}, {'reschedule_bantuan': 2.357222e-06}, {'reschedule_info': 0.002555982}, {'salah_input': 5.433041e-06}, {'sop_covid': 0.00015527036}, {'tanya wisata alam': 4.0628836e-07}, {'thanks': 0.008260373}, {'vaksin_info': 4.2589545e-05}, {'weblink': 7.9364935e-07}]\n",
      "bye\n"
     ]
    },
    {
     "data": {
      "text/plain": [
       "'Semoga harimu menyenangkan!'"
      ]
     },
     "execution_count": 44,
     "metadata": {},
     "output_type": "execute_result"
    }
   ],
   "source": [
    "bot_response('Dadah!')"
   ]
  },
  {
   "cell_type": "code",
   "execution_count": 45,
   "metadata": {},
   "outputs": [
    {
     "name": "stdout",
     "output_type": "stream",
     "text": [
      "1/1 [==============================] - 0s 32ms/step\n",
      "[{'bye': 0.013489193}, {'canda': 0.00035364024}, {'canda_2': 6.1092883e-06}, {'canda_3': 4.6715908e-08}, {'complain': 0.0006350671}, {'complain_marah': 0.0028815253}, {'creator': 1.5641597e-05}, {'dokumen': 0.0002514464}, {'greet': 0.9713169}, {'keamanan_data': 3.499065e-05}, {'mengubah_pilihan': 2.56312e-05}, {'nama': 2.242031e-06}, {'nanya_apps': 0.0003296943}, {'nanya_gobot': 0.00021289}, {'pembayaran': 0.00065132783}, {'pembayaran_error': 3.9651835e-07}, {'pilihan': 4.1979976e-05}, {'pilihan_2': 0.00028533916}, {'random_talk': 6.324482e-05}, {'random_talk3': 1.0124595e-07}, {'refund': 2.0813766e-05}, {'reschedule_bantuan': 2.9618996e-05}, {'reschedule_info': 0.006038278}, {'salah_input': 1.6185385e-07}, {'sop_covid': 0.0007766141}, {'tanya wisata alam': 1.6681369e-07}, {'thanks': 0.002530588}, {'vaksin_info': 3.2777875e-06}, {'weblink': 3.030747e-06}]\n",
      "greet\n"
     ]
    },
    {
     "data": {
      "text/plain": [
       "'Hai kawan :)'"
      ]
     },
     "execution_count": 45,
     "metadata": {},
     "output_type": "execute_result"
    }
   ],
   "source": [
    "bot_response('Halo!')"
   ]
  },
  {
   "cell_type": "code",
   "execution_count": null,
   "metadata": {},
   "outputs": [],
   "source": []
  }
 ],
 "metadata": {
  "kernelspec": {
   "display_name": "Python 3.10.2 64-bit",
   "language": "python",
   "name": "python3"
  },
  "language_info": {
   "codemirror_mode": {
    "name": "ipython",
    "version": 3
   },
   "file_extension": ".py",
   "mimetype": "text/x-python",
   "name": "python",
   "nbconvert_exporter": "python",
   "pygments_lexer": "ipython3",
   "version": "3.10.2"
  },
  "orig_nbformat": 4,
  "vscode": {
   "interpreter": {
    "hash": "f6d4618e7af4546ebad8ab782c82b55d92d10efd6ebf51140178db89315c3b3b"
   }
  }
 },
 "nbformat": 4,
 "nbformat_minor": 2
}
